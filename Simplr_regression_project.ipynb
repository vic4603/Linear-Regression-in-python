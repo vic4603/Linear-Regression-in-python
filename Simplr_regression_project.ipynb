{
 "cells": [
  {
   "cell_type": "code",
   "execution_count": 4,
   "metadata": {},
   "outputs": [],
   "source": [
    "import numpy as np\n",
    "import pandas as pd\n",
    "import sklearn\n",
    "from sklearn import linear_model\n",
    "from sklearn.utils import shuffle\n",
    "import matplotlib.pyplot as pyplot\n",
    "import pickle\n",
    "from matplotlib import style"
   ]
  },
  {
   "cell_type": "code",
   "execution_count": 5,
   "metadata": {},
   "outputs": [
    {
     "name": "stdout",
     "output_type": "stream",
     "text": [
      "  school sex  age address famsize Pstatus  Medu  Fedu     Mjob      Fjob  ...  \\\n",
      "0     GP   F   18       U     GT3       A     4     4  at_home   teacher  ...   \n",
      "1     GP   F   17       U     GT3       T     1     1  at_home     other  ...   \n",
      "2     GP   F   15       U     LE3       T     1     1  at_home     other  ...   \n",
      "3     GP   F   15       U     GT3       T     4     2   health  services  ...   \n",
      "4     GP   F   16       U     GT3       T     3     3    other     other  ...   \n",
      "\n",
      "  famrel freetime  goout  Dalc  Walc health absences  G1  G2  G3  \n",
      "0      4        3      4     1     1      3        6   5   6   6  \n",
      "1      5        3      3     1     1      3        4   5   5   6  \n",
      "2      4        3      2     2     3      3       10   7   8  10  \n",
      "3      3        2      2     1     1      5        2  15  14  15  \n",
      "4      4        3      2     1     2      5        4   6  10  10  \n",
      "\n",
      "[5 rows x 33 columns]\n"
     ]
    }
   ],
   "source": [
    "data = pd.read_csv(\"Desktop//student-mat.csv\", sep=\";\")\n",
    "print(data.head())"
   ]
  },
  {
   "cell_type": "code",
   "execution_count": 6,
   "metadata": {},
   "outputs": [
    {
     "name": "stdout",
     "output_type": "stream",
     "text": [
      "   G1  G2  G3  studytime  failures  absences\n",
      "0   5   6   6          2         0         6\n",
      "1   5   5   6          2         0         4\n",
      "2   7   8  10          2         3        10\n",
      "3  15  14  15          3         0         2\n",
      "4   6  10  10          2         0         4\n"
     ]
    }
   ],
   "source": [
    "data = data[[\"G1\", \"G2\", \"G3\", \"studytime\", \"failures\", \"absences\"]]\n",
    "print(data.head())"
   ]
  },
  {
   "cell_type": "code",
   "execution_count": 7,
   "metadata": {},
   "outputs": [],
   "source": [
    "predict = \"G3\"\n",
    "x = np.array(data.drop([predict], 1))\n",
    "y = np.array(data[predict])\n",
    "x_train, x_test, y_train, y_test = sklearn.model_selection.train_test_split(x, y, test_size = 0.1)"
   ]
  },
  {
   "cell_type": "code",
   "execution_count": 10,
   "metadata": {},
   "outputs": [
    {
     "name": "stdout",
     "output_type": "stream",
     "text": [
      "0.8545946256094947\n",
      "0.7387081262395274\n",
      "0.8569214488254812\n",
      "0.8785602239205271\n",
      "0.9351433213472072\n",
      "0.8124026637499049\n",
      "0.8915631298706326\n",
      "0.8172289207966107\n",
      "0.8525432167448976\n",
      "0.8767882830437049\n",
      "0.8283475673793558\n",
      "0.8508814966296929\n",
      "0.8620030302032637\n",
      "0.8443615370725516\n",
      "0.7424177440841087\n",
      "0.8067179921238142\n",
      "0.8219522251123184\n",
      "0.8690904417128215\n",
      "0.7455964141229806\n",
      "0.8394301518626124\n",
      "0.8184032007755813\n",
      "0.8708070599869752\n",
      "0.7926779614204533\n",
      "0.745443892371656\n",
      "0.9475207730273171\n",
      "0.8794968503925917\n",
      "0.9109006176948163\n",
      "0.7893425933833236\n",
      "0.7963116503887366\n",
      "0.803656138351632\n"
     ]
    }
   ],
   "source": [
    "best = 0\n",
    "for _ in range(30):\n",
    "    x_train, x_test, y_train, y_test = sklearn.model_selection.train_test_split(x, y, test_size = 0.1)\n",
    "    linear = linear_model.LinearRegression()\n",
    "    linear.fit(x_train, y_train)\n",
    "    acc = linear.score(x_test, y_test)\n",
    "    print(acc)\n",
    "    if acc > best:\n",
    "        best = acc\n",
    "        with open(\"studentmodel.pickle\", \"wb\") as f:\n",
    "            pickle.dump(linear, f)"
   ]
  },
  {
   "cell_type": "code",
   "execution_count": 11,
   "metadata": {},
   "outputs": [
    {
     "name": "stdout",
     "output_type": "stream",
     "text": [
      "0.9475207730273171\n",
      "coefficient \n",
      " [ 0.15511408  0.98582292 -0.17556781 -0.25888033  0.04183826]\n",
      "intercept \n",
      " -1.6799689225812937\n",
      "12.645962292958789 [12 13  2  0  0] 13\n",
      "5.696574076110089 [7 7 2 1 0] 0\n",
      "11.341696451580411 [10 12  3  0  4] 12\n",
      "16.214741788495672 [14 16  1  0  3] 16\n",
      "5.800340331768838 [6 7 2 0 0] 0\n",
      "14.793175936878734 [12 15  1  0  0] 15\n",
      "14.431833523163418 [15 14  2  0  8] 14\n",
      "9.019642994204439 [10 10  3  2  8] 10\n",
      "10.447764826397894 [10 11  2  0  2] 11\n",
      "5.605046784124539 [7 7 2 2 4] 9\n",
      "8.015528953224942 [ 6  9  1  2 14] 8\n",
      "8.747602289693399 [9 9 1 0 8] 10\n",
      "7.0963914026321415 [8 8 2 0 0] 9\n",
      "15.011512800524526 [14 15  2  0  2] 15\n",
      "3.439178016393168 [3 5 2 1 8] 5\n",
      "14.15213545695281 [16 14  4  0  6] 15\n",
      "11.021261506241641 [11 11  2  0 12] 11\n",
      "6.030916159087829 [7 7 3 0 6] 7\n",
      "11.903318166782906 [12 12  2  1 12] 13\n",
      "12.327883366812369 [10 13  2  1  6] 13\n",
      "10.686555424231958 [11 11  2  0  4] 11\n",
      "9.931308335350934 [12 10  3  0 10] 12\n",
      "6.931061150597799 [10  8  1  3  3] 7\n",
      "-1.028618525770093 [7 0 1 1 0] 0\n",
      "6.992625146973392 [9 8 2 1 0] 0\n",
      "15.738091384702203 [14 16  3  0  0] 16\n",
      "12.813679332995575 [12 13  1  1  6] 14\n",
      "12.645962292958789 [12 13  2  0  0] 14\n",
      "12.625508558770518 [13 13  3  0  0] 14\n",
      "11.990821265610336 [13 12  1  0  0] 12\n",
      "12.27145012369561 [14 12  1  0  3] 12\n",
      "11.923407901939235 [11 12  2  0 10] 13\n",
      "12.068512803428513 [13 11  3  1 40] 11\n",
      "5.145199304420385 [7 6 1 0 0] 0\n",
      "14.927836280022104 [14 15  2  0  0] 15\n",
      "5.854408171666029 [5 8 2 3 0] 7\n",
      "12.91837638052899 [13 13  3  0  7] 14\n",
      "9.378265389695457 [10 10  2  0  0] 10\n",
      "-0.9248522701113443 [6 0 1 0 0] 0\n",
      "12.1621984997733 [12 12  2  0 12] 11\n"
     ]
    }
   ],
   "source": [
    "print(best)\n",
    "pickle_in = open(\"studentmodel.pickle\", \"rb\")\n",
    "linear = pickle.load(pickle_in)\n",
    "print(\"coefficient \\n\", linear.coef_)\n",
    "print(\"intercept \\n\", linear.intercept_)\n",
    "prediction = linear.predict(x_test)\n",
    "for x in range(len(prediction)):\n",
    "    print(prediction[x], x_test[x], y_test[x])"
   ]
  },
  {
   "cell_type": "code",
   "execution_count": 12,
   "metadata": {},
   "outputs": [
    {
     "data": {
      "text/plain": [
       "Text(0, 0.5, 'final Grades')"
      ]
     },
     "execution_count": 12,
     "metadata": {},
     "output_type": "execute_result"
    },
    {
     "data": {
      "image/png": "[encoded data removed]",
      "text/plain": [
       "<Figure size 432x288 with 1 Axes>"
      ]
     },
     "metadata": {},
     "output_type": "display_data"
    }
   ],
   "source": [
    "p = \"G1\"\n",
    "style.use(\"ggplot\")\n",
    "pyplot.scatter(data[p], data[\"G3\"])\n",
    "pyplot.xlabel(p)\n",
    "pyplot.ylabel(\"final Grades\")"
   ]
  },
  {
   "cell_type": "code",
   "execution_count": null,
   "metadata": {},
   "outputs": [],
   "source": []
  }
 ],
 "metadata": {
  "kernelspec": {
   "display_name": "Python 3",
   "language": "python",
   "name": "python3"
  },
  "language_info": {
   "codemirror_mode": {
    "name": "ipython",
    "version": 3
   },
   "file_extension": ".py",
   "mimetype": "text/x-python",
   "name": "python",
   "nbconvert_exporter": "python",
   "pygments_lexer": "ipython3",
   "version": "3.7.6"
  }
 },
 "nbformat": 4,
 "nbformat_minor": 4
}
